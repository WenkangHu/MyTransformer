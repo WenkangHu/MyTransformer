{
 "metadata": {
  "language_info": {
   "codemirror_mode": {
    "name": "ipython",
    "version": 3
   },
   "file_extension": ".py",
   "mimetype": "text/x-python",
   "name": "python",
   "nbconvert_exporter": "python",
   "pygments_lexer": "ipython3",
   "version": "3.8.3"
  },
  "orig_nbformat": 4,
  "kernelspec": {
   "name": "python3",
   "display_name": "Python 3.8.3 64-bit ('base': conda)"
  },
  "interpreter": {
   "hash": "a2d651339f8d582942f5d5f2ff829df55c55db53beb749d9736b3da72f8e0759"
  }
 },
 "nbformat": 4,
 "nbformat_minor": 2,
 "cells": [
  {
   "cell_type": "code",
   "execution_count": 1,
   "metadata": {},
   "outputs": [],
   "source": [
    "import pandas as pd \n",
    "import numpy as np\n",
    "from torchtext.datasets import IWSLT2016\n",
    "from torchtext.vocab import build_vocab_from_iterator\n",
    "from transformers import BertTokenizer\n",
    "from torch.nn.utils.rnn import pad_sequence\n",
    "import torch\n",
    "import os\n",
    "from torch.utils.data import Dataset,DataLoader,TensorDataset\n",
    "import matplotlib.pyplot as plt "
   ]
  },
  {
   "cell_type": "code",
   "execution_count": 2,
   "metadata": {},
   "outputs": [],
   "source": [
    "src_lang='en'\n",
    "tgt_lang='zh'\n",
    "max_src_len=128\n",
    "max_tgt_len=128\n",
    "data_dir='./data/news-commentary-v16.en-zh.tsv'\n",
    "src_tokenizer_dir='./models/bert-base-uncased'\n",
    "tgt_tokenizer_dir='./models/bert-base-chinese'\n",
    "src_vocab_dir='./checkpoints/vocabs/src_en_vocab.pkl'\n",
    "tgt_vocab_dir='./checkpoints/vocabs/tgt_zh_vocab.pkl'"
   ]
  },
  {
   "cell_type": "code",
   "execution_count": 3,
   "metadata": {},
   "outputs": [
    {
     "output_type": "execute_result",
     "data": {
      "text/plain": [
       "                                                       en  \\\n",
       "0                                           1929 or 1989?   \n",
       "1       PARIS – As the economic crisis deepens and wid...   \n",
       "2       At the start of the crisis, many people likene...   \n",
       "3       Today, the mood is much grimmer, with referenc...   \n",
       "4       The tendency is either excessive restraint (Eu...   \n",
       "...                                                   ...   \n",
       "322269  At the same time, Zuma’s revolutionary generat...   \n",
       "322270  In a region that reveres the elderly, Zuma’s a...   \n",
       "322271  Three in ten South Africans are younger than 1...   \n",
       "322272  Somehow Zuma must find a way to honor his own ...   \n",
       "322273                                                NaN   \n",
       "\n",
       "                                                       zh  \n",
       "0                                           1929年还是1989年?  \n",
       "1       巴黎-随着经济危机不断加深和蔓延，整个世界一直在寻找历史上的类似事件希望有助于我们了解目前正...  \n",
       "2       一开始，很多人把这次危机比作1982年或1973年所发生的情况，这样得类比是令人宽心的，因为...  \n",
       "3       如今人们的心情却是沉重多了，许多人开始把这次危机与1929年和1931年相比，即使一些国家政...  \n",
       "4                  目前的趋势是，要么是过度的克制（欧洲 ） ， 要么是努力的扩展（美国 ） 。  \n",
       "...                                                   ...  \n",
       "322269               同时，祖马革命的一代似乎对领导打破种族隔离制度15年后的南非，还不适应。  \n",
       "322270  在一个尊敬老人的地区，祖马对其乡下传统的依恋，必须和对南非年青人的爱好所持的平等而开放态度相平衡。  \n",
       "322271   在南非，每10个人中就有三个人的年龄小于15岁，这意味着，这些人从来没有在种族隔离制度下生活过。  \n",
       "322272  在某种程度上，祖马在给予那些心灵每天都会被阶层差异刺痛以及渴望物质利益的广大民众权利的同时，...  \n",
       "322273                                                NaN  \n",
       "\n",
       "[322274 rows x 2 columns]"
      ],
      "text/html": "<div>\n<style scoped>\n    .dataframe tbody tr th:only-of-type {\n        vertical-align: middle;\n    }\n\n    .dataframe tbody tr th {\n        vertical-align: top;\n    }\n\n    .dataframe thead th {\n        text-align: right;\n    }\n</style>\n<table border=\"1\" class=\"dataframe\">\n  <thead>\n    <tr style=\"text-align: right;\">\n      <th></th>\n      <th>en</th>\n      <th>zh</th>\n    </tr>\n  </thead>\n  <tbody>\n    <tr>\n      <th>0</th>\n      <td>1929 or 1989?</td>\n      <td>1929年还是1989年?</td>\n    </tr>\n    <tr>\n      <th>1</th>\n      <td>PARIS – As the economic crisis deepens and wid...</td>\n      <td>巴黎-随着经济危机不断加深和蔓延，整个世界一直在寻找历史上的类似事件希望有助于我们了解目前正...</td>\n    </tr>\n    <tr>\n      <th>2</th>\n      <td>At the start of the crisis, many people likene...</td>\n      <td>一开始，很多人把这次危机比作1982年或1973年所发生的情况，这样得类比是令人宽心的，因为...</td>\n    </tr>\n    <tr>\n      <th>3</th>\n      <td>Today, the mood is much grimmer, with referenc...</td>\n      <td>如今人们的心情却是沉重多了，许多人开始把这次危机与1929年和1931年相比，即使一些国家政...</td>\n    </tr>\n    <tr>\n      <th>4</th>\n      <td>The tendency is either excessive restraint (Eu...</td>\n      <td>目前的趋势是，要么是过度的克制（欧洲 ） ， 要么是努力的扩展（美国 ） 。</td>\n    </tr>\n    <tr>\n      <th>...</th>\n      <td>...</td>\n      <td>...</td>\n    </tr>\n    <tr>\n      <th>322269</th>\n      <td>At the same time, Zuma’s revolutionary generat...</td>\n      <td>同时，祖马革命的一代似乎对领导打破种族隔离制度15年后的南非，还不适应。</td>\n    </tr>\n    <tr>\n      <th>322270</th>\n      <td>In a region that reveres the elderly, Zuma’s a...</td>\n      <td>在一个尊敬老人的地区，祖马对其乡下传统的依恋，必须和对南非年青人的爱好所持的平等而开放态度相平衡。</td>\n    </tr>\n    <tr>\n      <th>322271</th>\n      <td>Three in ten South Africans are younger than 1...</td>\n      <td>在南非，每10个人中就有三个人的年龄小于15岁，这意味着，这些人从来没有在种族隔离制度下生活过。</td>\n    </tr>\n    <tr>\n      <th>322272</th>\n      <td>Somehow Zuma must find a way to honor his own ...</td>\n      <td>在某种程度上，祖马在给予那些心灵每天都会被阶层差异刺痛以及渴望物质利益的广大民众权利的同时，...</td>\n    </tr>\n    <tr>\n      <th>322273</th>\n      <td>NaN</td>\n      <td>NaN</td>\n    </tr>\n  </tbody>\n</table>\n<p>322274 rows × 2 columns</p>\n</div>"
     },
     "metadata": {},
     "execution_count": 3
    }
   ],
   "source": [
    "data=pd.read_csv(data_dir,sep='\\t',encoding='utf-8',names=[src_lang,tgt_lang])\n",
    "data"
   ]
  },
  {
   "cell_type": "code",
   "execution_count": 4,
   "metadata": {},
   "outputs": [
    {
     "output_type": "execute_result",
     "data": {
      "text/plain": [
       "                                                       en  \\\n",
       "0                                           1929 or 1989?   \n",
       "1       PARIS – As the economic crisis deepens and wid...   \n",
       "2       At the start of the crisis, many people likene...   \n",
       "3       Today, the mood is much grimmer, with referenc...   \n",
       "4       The tendency is either excessive restraint (Eu...   \n",
       "...                                                   ...   \n",
       "313668  Their achievement remains one of the greatest ...   \n",
       "313669  At the same time, Zuma’s revolutionary generat...   \n",
       "313670  In a region that reveres the elderly, Zuma’s a...   \n",
       "313671  Three in ten South Africans are younger than 1...   \n",
       "313672  Somehow Zuma must find a way to honor his own ...   \n",
       "\n",
       "                                                       zh  \n",
       "0                                           1929年还是1989年?  \n",
       "1       巴黎-随着经济危机不断加深和蔓延，整个世界一直在寻找历史上的类似事件希望有助于我们了解目前正...  \n",
       "2       一开始，很多人把这次危机比作1982年或1973年所发生的情况，这样得类比是令人宽心的，因为...  \n",
       "3       如今人们的心情却是沉重多了，许多人开始把这次危机与1929年和1931年相比，即使一些国家政...  \n",
       "4                  目前的趋势是，要么是过度的克制（欧洲 ） ， 要么是努力的扩展（美国 ） 。  \n",
       "...                                                   ...  \n",
       "313668                            这一代人的成就是现代��史上最伟大的成就之一。  \n",
       "313669               同时，祖马革命的一代似乎对领导打破种族隔离制度15年后的南非，还不适应。  \n",
       "313670  在一个尊敬老人的地区，祖马对其乡下传统的依恋，必须和对南非年青人的爱好所持的平等而开放态度相平衡。  \n",
       "313671   在南非，每10个人中就有三个人的年龄小于15岁，这意味着，这些人从来没有在种族隔离制度下生活过。  \n",
       "313672  在某种程度上，祖马在给予那些心灵每天都会被阶层差异刺痛以及渴望物质利益的广大民众权利的同时，...  \n",
       "\n",
       "[313673 rows x 2 columns]"
      ],
      "text/html": "<div>\n<style scoped>\n    .dataframe tbody tr th:only-of-type {\n        vertical-align: middle;\n    }\n\n    .dataframe tbody tr th {\n        vertical-align: top;\n    }\n\n    .dataframe thead th {\n        text-align: right;\n    }\n</style>\n<table border=\"1\" class=\"dataframe\">\n  <thead>\n    <tr style=\"text-align: right;\">\n      <th></th>\n      <th>en</th>\n      <th>zh</th>\n    </tr>\n  </thead>\n  <tbody>\n    <tr>\n      <th>0</th>\n      <td>1929 or 1989?</td>\n      <td>1929年还是1989年?</td>\n    </tr>\n    <tr>\n      <th>1</th>\n      <td>PARIS – As the economic crisis deepens and wid...</td>\n      <td>巴黎-随着经济危机不断加深和蔓延，整个世界一直在寻找历史上的类似事件希望有助于我们了解目前正...</td>\n    </tr>\n    <tr>\n      <th>2</th>\n      <td>At the start of the crisis, many people likene...</td>\n      <td>一开始，很多人把这次危机比作1982年或1973年所发生的情况，这样得类比是令人宽心的，因为...</td>\n    </tr>\n    <tr>\n      <th>3</th>\n      <td>Today, the mood is much grimmer, with referenc...</td>\n      <td>如今人们的心情却是沉重多了，许多人开始把这次危机与1929年和1931年相比，即使一些国家政...</td>\n    </tr>\n    <tr>\n      <th>4</th>\n      <td>The tendency is either excessive restraint (Eu...</td>\n      <td>目前的趋势是，要么是过度的克制（欧洲 ） ， 要么是努力的扩展（美国 ） 。</td>\n    </tr>\n    <tr>\n      <th>...</th>\n      <td>...</td>\n      <td>...</td>\n    </tr>\n    <tr>\n      <th>313668</th>\n      <td>Their achievement remains one of the greatest ...</td>\n      <td>这一代人的成就是现代��史上最伟大的成就之一。</td>\n    </tr>\n    <tr>\n      <th>313669</th>\n      <td>At the same time, Zuma’s revolutionary generat...</td>\n      <td>同时，祖马革命的一代似乎对领导打破种族隔离制度15年后的南非，还不适应。</td>\n    </tr>\n    <tr>\n      <th>313670</th>\n      <td>In a region that reveres the elderly, Zuma’s a...</td>\n      <td>在一个尊敬老人的地区，祖马对其乡下传统的依恋，必须和对南非年青人的爱好所持的平等而开放态度相平衡。</td>\n    </tr>\n    <tr>\n      <th>313671</th>\n      <td>Three in ten South Africans are younger than 1...</td>\n      <td>在南非，每10个人中就有三个人的年龄小于15岁，这意味着，这些人从来没有在种族隔离制度下生活过。</td>\n    </tr>\n    <tr>\n      <th>313672</th>\n      <td>Somehow Zuma must find a way to honor his own ...</td>\n      <td>在某种程度上，祖马在给予那些心灵每天都会被阶层差异刺痛以及渴望物质利益的广大民众权利的同时，...</td>\n    </tr>\n  </tbody>\n</table>\n<p>313673 rows × 2 columns</p>\n</div>"
     },
     "metadata": {},
     "execution_count": 4
    }
   ],
   "source": [
    "data=data.dropna(axis=0).reset_index(drop=True)\n",
    "data"
   ]
  },
  {
   "cell_type": "code",
   "execution_count": 5,
   "metadata": {},
   "outputs": [],
   "source": [
    "src_tokenizer=BertTokenizer.from_pretrained(src_tokenizer_dir)\n",
    "tgt_tokenizer=BertTokenizer.from_pretrained(tgt_tokenizer_dir)"
   ]
  },
  {
   "cell_type": "code",
   "execution_count": 6,
   "metadata": {},
   "outputs": [
    {
     "output_type": "execute_result",
     "data": {
      "text/plain": [
       "('[UNK]', '[PAD]', '[BOS]', '[EOS]')"
      ]
     },
     "metadata": {},
     "execution_count": 6
    }
   ],
   "source": [
    "UNK,PAD,BOS,EOS=['[UNK]','[PAD]','[BOS]','[EOS]']\n",
    "UNK,PAD,BOS,EOS"
   ]
  },
  {
   "cell_type": "code",
   "execution_count": 7,
   "metadata": {},
   "outputs": [],
   "source": [
    "class TextTransform(object):\n",
    "    def __init__(self,tokenizer,max_seq_len,unk_token,pad_token,bos_token,eos_token,truncate_first=False):\n",
    "        self.special_tokens=[unk_token,pad_token,bos_token,eos_token]\n",
    "        self.unk_idx,self.pad_idx,self.bos_idx,self.eos_idx=range(4)\n",
    "        self.tokenizer=tokenizer\n",
    "        assert max_seq_len>=2\n",
    "        self.max_seq_len=max_seq_len-2\n",
    "        self.truncate_first=truncate_first\n",
    "        self.vocab=None\n",
    "\n",
    "    def build_vocab(self,corpus,save_path):\n",
    "        def yield_tokens(corpus,tokenizer):\n",
    "            for sentence in corpus:\n",
    "                yield tokenizer.tokenize(sentence)\n",
    "        if os.path.exists(save_path):\n",
    "            print('vocab areadly existed!')\n",
    "            self.vocab=torch.load(save_path)\n",
    "        else:\n",
    "            corpus_tokens=yield_tokens(corpus,self.tokenizer)\n",
    "            self.vocab=build_vocab_from_iterator(corpus_tokens,min_freq=1,specials=self.special_tokens,special_first=True)\n",
    "            torch.save(self.vocab,save_path)\n",
    "            print(f'vocabulary save to {save_path}')\n",
    "        self.vocab.set_default_index(self.unk_idx)\n",
    "        print(f'vocabulary size: {len(self.vocab)}')\n",
    "\n",
    "    def pad(self,seq):\n",
    "        padded_seq=[self.bos_idx]+(seq[-self.max_seq_len:] if self.truncate_first else seq[:self.max_seq_len])+[self.eos_idx]+[self.pad_idx]*max(0,self.max_seq_len-len(seq))\n",
    "        return padded_seq\n",
    "\n",
    "    def vocab_size(self):\n",
    "        return len(self.vocab)\n",
    "\n",
    "    def __call__(self,sentence):\n",
    "        tokens=self.tokenizer.tokenize(sentence)\n",
    "        token_ids=self.vocab(tokens)\n",
    "        input_ids=self.pad(token_ids)\n",
    "        return input_ids"
   ]
  },
  {
   "cell_type": "code",
   "execution_count": 8,
   "metadata": {},
   "outputs": [
    {
     "output_type": "stream",
     "name": "stdout",
     "text": [
      "vocabulary save to ./checkpoints/vocabs/src_en_vocab.pkl\nvocabulary size: 24454\n"
     ]
    }
   ],
   "source": [
    "src_textTransform=TextTransform(src_tokenizer,max_src_len,UNK,PAD,BOS,EOS)\n",
    "src_textTransform.build_vocab(data[src_lang].tolist(),src_vocab_dir)"
   ]
  },
  {
   "cell_type": "code",
   "execution_count": 9,
   "metadata": {},
   "outputs": [
    {
     "output_type": "execute_result",
     "data": {
      "text/plain": [
       "[2,\n",
       " 140,\n",
       " 0,\n",
       " 3926,\n",
       " 350,\n",
       " 3,\n",
       " 1,\n",
       " 1,\n",
       " 1,\n",
       " 1,\n",
       " 1,\n",
       " 1,\n",
       " 1,\n",
       " 1,\n",
       " 1,\n",
       " 1,\n",
       " 1,\n",
       " 1,\n",
       " 1,\n",
       " 1,\n",
       " 1,\n",
       " 1,\n",
       " 1,\n",
       " 1,\n",
       " 1,\n",
       " 1,\n",
       " 1,\n",
       " 1,\n",
       " 1,\n",
       " 1,\n",
       " 1,\n",
       " 1,\n",
       " 1,\n",
       " 1,\n",
       " 1,\n",
       " 1,\n",
       " 1,\n",
       " 1,\n",
       " 1,\n",
       " 1,\n",
       " 1,\n",
       " 1,\n",
       " 1,\n",
       " 1,\n",
       " 1,\n",
       " 1,\n",
       " 1,\n",
       " 1,\n",
       " 1,\n",
       " 1,\n",
       " 1,\n",
       " 1,\n",
       " 1,\n",
       " 1,\n",
       " 1,\n",
       " 1,\n",
       " 1,\n",
       " 1,\n",
       " 1,\n",
       " 1,\n",
       " 1,\n",
       " 1,\n",
       " 1,\n",
       " 1,\n",
       " 1,\n",
       " 1,\n",
       " 1,\n",
       " 1,\n",
       " 1,\n",
       " 1,\n",
       " 1,\n",
       " 1,\n",
       " 1,\n",
       " 1,\n",
       " 1,\n",
       " 1,\n",
       " 1,\n",
       " 1,\n",
       " 1,\n",
       " 1,\n",
       " 1,\n",
       " 1,\n",
       " 1,\n",
       " 1,\n",
       " 1,\n",
       " 1,\n",
       " 1,\n",
       " 1,\n",
       " 1,\n",
       " 1,\n",
       " 1,\n",
       " 1,\n",
       " 1,\n",
       " 1,\n",
       " 1,\n",
       " 1,\n",
       " 1,\n",
       " 1,\n",
       " 1,\n",
       " 1,\n",
       " 1,\n",
       " 1,\n",
       " 1,\n",
       " 1,\n",
       " 1,\n",
       " 1,\n",
       " 1,\n",
       " 1,\n",
       " 1,\n",
       " 1,\n",
       " 1,\n",
       " 1,\n",
       " 1,\n",
       " 1,\n",
       " 1,\n",
       " 1,\n",
       " 1,\n",
       " 1,\n",
       " 1,\n",
       " 1,\n",
       " 1,\n",
       " 1,\n",
       " 1,\n",
       " 1,\n",
       " 1,\n",
       " 1,\n",
       " 1,\n",
       " 1]"
      ]
     },
     "metadata": {},
     "execution_count": 9
    }
   ],
   "source": [
    "src_textTransform('I 铪 love you ')"
   ]
  },
  {
   "cell_type": "code",
   "execution_count": 10,
   "metadata": {},
   "outputs": [
    {
     "output_type": "stream",
     "name": "stdout",
     "text": [
      "vocabulary save to ./checkpoints/vocabs/tgt_zh_vocab.pkl\nvocabulary size: 6870\n"
     ]
    }
   ],
   "source": [
    "tgt_textTransform=TextTransform(tgt_tokenizer,max_tgt_len,UNK,PAD,BOS,EOS)\n",
    "tgt_textTransform.build_vocab(data[tgt_lang].tolist(),tgt_vocab_dir)"
   ]
  },
  {
   "cell_type": "code",
   "execution_count": 11,
   "metadata": {},
   "outputs": [
    {
     "output_type": "execute_result",
     "data": {
      "text/plain": [
       "[2,\n",
       " 70,\n",
       " 885,\n",
       " 626,\n",
       " 0,\n",
       " 3,\n",
       " 1,\n",
       " 1,\n",
       " 1,\n",
       " 1,\n",
       " 1,\n",
       " 1,\n",
       " 1,\n",
       " 1,\n",
       " 1,\n",
       " 1,\n",
       " 1,\n",
       " 1,\n",
       " 1,\n",
       " 1,\n",
       " 1,\n",
       " 1,\n",
       " 1,\n",
       " 1,\n",
       " 1,\n",
       " 1,\n",
       " 1,\n",
       " 1,\n",
       " 1,\n",
       " 1,\n",
       " 1,\n",
       " 1,\n",
       " 1,\n",
       " 1,\n",
       " 1,\n",
       " 1,\n",
       " 1,\n",
       " 1,\n",
       " 1,\n",
       " 1,\n",
       " 1,\n",
       " 1,\n",
       " 1,\n",
       " 1,\n",
       " 1,\n",
       " 1,\n",
       " 1,\n",
       " 1,\n",
       " 1,\n",
       " 1,\n",
       " 1,\n",
       " 1,\n",
       " 1,\n",
       " 1,\n",
       " 1,\n",
       " 1,\n",
       " 1,\n",
       " 1,\n",
       " 1,\n",
       " 1,\n",
       " 1,\n",
       " 1,\n",
       " 1,\n",
       " 1,\n",
       " 1,\n",
       " 1,\n",
       " 1,\n",
       " 1,\n",
       " 1,\n",
       " 1,\n",
       " 1,\n",
       " 1,\n",
       " 1,\n",
       " 1,\n",
       " 1,\n",
       " 1,\n",
       " 1,\n",
       " 1,\n",
       " 1,\n",
       " 1,\n",
       " 1,\n",
       " 1,\n",
       " 1,\n",
       " 1,\n",
       " 1,\n",
       " 1,\n",
       " 1,\n",
       " 1,\n",
       " 1,\n",
       " 1,\n",
       " 1,\n",
       " 1,\n",
       " 1,\n",
       " 1,\n",
       " 1,\n",
       " 1,\n",
       " 1,\n",
       " 1,\n",
       " 1,\n",
       " 1,\n",
       " 1,\n",
       " 1,\n",
       " 1,\n",
       " 1,\n",
       " 1,\n",
       " 1,\n",
       " 1,\n",
       " 1,\n",
       " 1,\n",
       " 1,\n",
       " 1,\n",
       " 1,\n",
       " 1,\n",
       " 1,\n",
       " 1,\n",
       " 1,\n",
       " 1,\n",
       " 1,\n",
       " 1,\n",
       " 1,\n",
       " 1,\n",
       " 1,\n",
       " 1,\n",
       " 1,\n",
       " 1,\n",
       " 1,\n",
       " 1,\n",
       " 1]"
      ]
     },
     "metadata": {},
     "execution_count": 11
    }
   ],
   "source": [
    "tgt_textTransform('我爱你 铪')"
   ]
  },
  {
   "cell_type": "code",
   "execution_count": 12,
   "metadata": {},
   "outputs": [],
   "source": [
    "def get_tensor_data(data,src_trans,tgt_trans):\n",
    "    src_data,tgt_data=[],[]\n",
    "    for i in range(len(data)):\n",
    "        if (i+1)%10000==0:\n",
    "            print(f\"get {i+1} data\")\n",
    "        src_data.append(src_trans(data[src_lang][i]))\n",
    "        tgt_data.append(tgt_trans(data[tgt_lang][i]))\n",
    "    return torch.tensor(src_data),torch.tensor(tgt_data)"
   ]
  },
  {
   "cell_type": "code",
   "execution_count": 13,
   "metadata": {
    "tags": []
   },
   "outputs": [
    {
     "output_type": "stream",
     "name": "stdout",
     "text": [
      "get 10000 data\n",
      "get 20000 data\n",
      "get 30000 data\n",
      "get 40000 data\n",
      "get 50000 data\n",
      "get 60000 data\n",
      "get 70000 data\n",
      "get 80000 data\n",
      "get 90000 data\n",
      "get 100000 data\n",
      "get 110000 data\n",
      "get 120000 data\n",
      "get 130000 data\n",
      "get 140000 data\n",
      "get 150000 data\n",
      "get 160000 data\n",
      "get 170000 data\n",
      "get 180000 data\n",
      "get 190000 data\n",
      "get 200000 data\n",
      "get 210000 data\n",
      "get 220000 data\n",
      "get 230000 data\n",
      "get 240000 data\n",
      "get 250000 data\n",
      "get 260000 data\n",
      "get 270000 data\n",
      "get 280000 data\n",
      "get 290000 data\n",
      "get 300000 data\n",
      "get 310000 data\n"
     ]
    },
    {
     "output_type": "error",
     "ename": "NameError",
     "evalue": "name 'toech' is not defined",
     "traceback": [
      "\u001b[1;31m---------------------------------------------------------------------------\u001b[0m",
      "\u001b[1;31mNameError\u001b[0m                                 Traceback (most recent call last)",
      "\u001b[1;32m<ipython-input-13-dc0588b495ae>\u001b[0m in \u001b[0;36m<module>\u001b[1;34m\u001b[0m\n\u001b[1;32m----> 1\u001b[1;33m \u001b[0msrc_data\u001b[0m\u001b[1;33m,\u001b[0m\u001b[0mtgt_data\u001b[0m\u001b[1;33m=\u001b[0m\u001b[0mget_tensor_data\u001b[0m\u001b[1;33m(\u001b[0m\u001b[0mdata\u001b[0m\u001b[1;33m,\u001b[0m\u001b[0msrc_textTransform\u001b[0m\u001b[1;33m,\u001b[0m\u001b[0mtgt_textTransform\u001b[0m\u001b[1;33m)\u001b[0m\u001b[1;33m\u001b[0m\u001b[1;33m\u001b[0m\u001b[0m\n\u001b[0m",
      "\u001b[1;32m<ipython-input-12-733e0a20d9cd>\u001b[0m in \u001b[0;36mget_tensor_data\u001b[1;34m(data, src_trans, tgt_trans)\u001b[0m\n\u001b[0;32m      6\u001b[0m         \u001b[0msrc_data\u001b[0m\u001b[1;33m.\u001b[0m\u001b[0mappend\u001b[0m\u001b[1;33m(\u001b[0m\u001b[0msrc_trans\u001b[0m\u001b[1;33m(\u001b[0m\u001b[0mdata\u001b[0m\u001b[1;33m[\u001b[0m\u001b[0msrc_lang\u001b[0m\u001b[1;33m]\u001b[0m\u001b[1;33m[\u001b[0m\u001b[0mi\u001b[0m\u001b[1;33m]\u001b[0m\u001b[1;33m)\u001b[0m\u001b[1;33m)\u001b[0m\u001b[1;33m\u001b[0m\u001b[1;33m\u001b[0m\u001b[0m\n\u001b[0;32m      7\u001b[0m         \u001b[0mtgt_data\u001b[0m\u001b[1;33m.\u001b[0m\u001b[0mappend\u001b[0m\u001b[1;33m(\u001b[0m\u001b[0mtgt_trans\u001b[0m\u001b[1;33m(\u001b[0m\u001b[0mdata\u001b[0m\u001b[1;33m[\u001b[0m\u001b[0mtgt_lang\u001b[0m\u001b[1;33m]\u001b[0m\u001b[1;33m[\u001b[0m\u001b[0mi\u001b[0m\u001b[1;33m]\u001b[0m\u001b[1;33m)\u001b[0m\u001b[1;33m)\u001b[0m\u001b[1;33m\u001b[0m\u001b[1;33m\u001b[0m\u001b[0m\n\u001b[1;32m----> 8\u001b[1;33m     \u001b[1;32mreturn\u001b[0m \u001b[0mtorch\u001b[0m\u001b[1;33m.\u001b[0m\u001b[0mtensor\u001b[0m\u001b[1;33m(\u001b[0m\u001b[0msrc_data\u001b[0m\u001b[1;33m)\u001b[0m\u001b[1;33m,\u001b[0m\u001b[0mtoech\u001b[0m\u001b[1;33m.\u001b[0m\u001b[0mtensor\u001b[0m\u001b[1;33m(\u001b[0m\u001b[0mtgt_data\u001b[0m\u001b[1;33m)\u001b[0m\u001b[1;33m\u001b[0m\u001b[1;33m\u001b[0m\u001b[0m\n\u001b[0m",
      "\u001b[1;31mNameError\u001b[0m: name 'toech' is not defined"
     ]
    }
   ],
   "source": [
    "src_data,tgt_data=get_tensor_data(data,src_textTransform,tgt_textTransform)"
   ]
  },
  {
   "cell_type": "code",
   "execution_count": 1,
   "metadata": {},
   "outputs": [],
   "source": [
    "import torch\n",
    "import torch.nn as nn\n",
    "from torch.optim import Adam\n",
    "import matplotlib.pyplot as plt\n",
    "from torch.utils.data import DataLoader,TensorDataset\n",
    "from utils import ScheduledOptimizer\n",
    "import numpy as np"
   ]
  },
  {
   "cell_type": "code",
   "execution_count": 2,
   "metadata": {},
   "outputs": [],
   "source": [
    "class M(nn.Module):\n",
    "    def __init__(self):\n",
    "        super(M, self).__init__()\n",
    "        self.fc = nn.Linear(100, 100)\n",
    "\n",
    "    def forward(self, x):\n",
    "        return self.fc(x)"
   ]
  },
  {
   "cell_type": "code",
   "execution_count": 9,
   "metadata": {},
   "outputs": [
    {
     "output_type": "stream",
     "name": "stdout",
     "text": [
      "14120 1412\n"
     ]
    }
   ],
   "source": [
    "d_model=512\n",
    "batch_size=200\n",
    "epochs=10\n",
    "data=torch.load('./data/train_data_cache.pkl')\n",
    "dataset=TensorDataset(data['src'],data['tgt'])\n",
    "dataloader=DataLoader(dataset,batch_size=batch_size)\n",
    "total_step=len(dataloader)*epochs\n",
    "warmup_step=int(total_step*0.1)\n",
    "print(total_step,warmup_step)\n",
    "model = M()\n",
    "optimizer = Adam(model.parameters())\n",
    "sch_optim = ScheduledOptimizer(optimizer, d_model, warmup_step)\n"
   ]
  },
  {
   "cell_type": "code",
   "execution_count": 4,
   "metadata": {},
   "outputs": [
    {
     "output_type": "execute_result",
     "data": {
      "text/plain": [
       "[<matplotlib.lines.Line2D at 0x7f5b7fdf0640>]"
      ]
     },
     "metadata": {},
     "execution_count": 4
    },
    {
     "output_type": "display_data",
     "data": {
      "text/plain": "<Figure size 432x288 with 1 Axes>",
      "image/svg+xml": "<?xml version=\"1.0\" encoding=\"utf-8\" standalone=\"no\"?>\n<!DOCTYPE svg PUBLIC \"-//W3C//DTD SVG 1.1//EN\"\n  \"http://www.w3.org/Graphics/SVG/1.1/DTD/svg11.dtd\">\n<!-- Created with matplotlib (https://matplotlib.org/) -->\n<svg height=\"248.540635pt\" version=\"1.1\" viewBox=\"0 0 391.190625 248.540635\" width=\"391.190625pt\" xmlns=\"http://www.w3.org/2000/svg\" xmlns:xlink=\"http://www.w3.org/1999/xlink\">\n <defs>\n  <style type=\"text/css\">\n*{stroke-linecap:butt;stroke-linejoin:round;}\n  </style>\n </defs>\n <g id=\"figure_1\">\n  <g id=\"patch_1\">\n   <path d=\"M 0 248.540635 \nL 391.190625 248.540635 \nL 391.190625 0 \nL 0 0 \nz\n\" style=\"fill:none;\"/>\n  </g>\n  <g id=\"axes_1\">\n   <g id=\"patch_2\">\n    <path d=\"M 49.190625 224.66251 \nL 383.990625 224.66251 \nL 383.990625 7.22251 \nL 49.190625 7.22251 \nz\n\" style=\"fill:#ffffff;\"/>\n   </g>\n   <g id=\"matplotlib.axis_1\">\n    <g id=\"xtick_1\">\n     <g id=\"line2d_1\">\n      <defs>\n       <path d=\"M 0 0 \nL 0 3.5 \n\" id=\"m332cc33241\" style=\"stroke:#000000;stroke-width:0.8;\"/>\n      </defs>\n      <g>\n       <use style=\"stroke:#000000;stroke-width:0.8;\" x=\"64.408807\" xlink:href=\"#m332cc33241\" y=\"224.66251\"/>\n      </g>\n     </g>\n     <g id=\"text_1\">\n      <!-- 0 -->\n      <defs>\n       <path d=\"M 31.78125 66.40625 \nQ 24.171875 66.40625 20.328125 58.90625 \nQ 16.5 51.421875 16.5 36.375 \nQ 16.5 21.390625 20.328125 13.890625 \nQ 24.171875 6.390625 31.78125 6.390625 \nQ 39.453125 6.390625 43.28125 13.890625 \nQ 47.125 21.390625 47.125 36.375 \nQ 47.125 51.421875 43.28125 58.90625 \nQ 39.453125 66.40625 31.78125 66.40625 \nz\nM 31.78125 74.21875 \nQ 44.046875 74.21875 50.515625 64.515625 \nQ 56.984375 54.828125 56.984375 36.375 \nQ 56.984375 17.96875 50.515625 8.265625 \nQ 44.046875 -1.421875 31.78125 -1.421875 \nQ 19.53125 -1.421875 13.0625 8.265625 \nQ 6.59375 17.96875 6.59375 36.375 \nQ 6.59375 54.828125 13.0625 64.515625 \nQ 19.53125 74.21875 31.78125 74.21875 \nz\n\" id=\"DejaVuSans-48\"/>\n      </defs>\n      <g transform=\"translate(61.227557 239.260948)scale(0.1 -0.1)\">\n       <use xlink:href=\"#DejaVuSans-48\"/>\n      </g>\n     </g>\n    </g>\n    <g id=\"xtick_2\">\n     <g id=\"line2d_2\">\n      <g>\n       <use style=\"stroke:#000000;stroke-width:0.8;\" x=\"136.262164\" xlink:href=\"#m332cc33241\" y=\"224.66251\"/>\n      </g>\n     </g>\n     <g id=\"text_2\">\n      <!-- 10000 -->\n      <defs>\n       <path d=\"M 12.40625 8.296875 \nL 28.515625 8.296875 \nL 28.515625 63.921875 \nL 10.984375 60.40625 \nL 10.984375 69.390625 \nL 28.421875 72.90625 \nL 38.28125 72.90625 \nL 38.28125 8.296875 \nL 54.390625 8.296875 \nL 54.390625 0 \nL 12.40625 0 \nz\n\" id=\"DejaVuSans-49\"/>\n      </defs>\n      <g transform=\"translate(120.355914 239.260948)scale(0.1 -0.1)\">\n       <use xlink:href=\"#DejaVuSans-49\"/>\n       <use x=\"63.623047\" xlink:href=\"#DejaVuSans-48\"/>\n       <use x=\"127.246094\" xlink:href=\"#DejaVuSans-48\"/>\n       <use x=\"190.869141\" xlink:href=\"#DejaVuSans-48\"/>\n       <use x=\"254.492188\" xlink:href=\"#DejaVuSans-48\"/>\n      </g>\n     </g>\n    </g>\n    <g id=\"xtick_3\">\n     <g id=\"line2d_3\">\n      <g>\n       <use style=\"stroke:#000000;stroke-width:0.8;\" x=\"208.115522\" xlink:href=\"#m332cc33241\" y=\"224.66251\"/>\n      </g>\n     </g>\n     <g id=\"text_3\">\n      <!-- 20000 -->\n      <defs>\n       <path d=\"M 19.1875 8.296875 \nL 53.609375 8.296875 \nL 53.609375 0 \nL 7.328125 0 \nL 7.328125 8.296875 \nQ 12.9375 14.109375 22.625 23.890625 \nQ 32.328125 33.6875 34.8125 36.53125 \nQ 39.546875 41.84375 41.421875 45.53125 \nQ 43.3125 49.21875 43.3125 52.78125 \nQ 43.3125 58.59375 39.234375 62.25 \nQ 35.15625 65.921875 28.609375 65.921875 \nQ 23.96875 65.921875 18.8125 64.3125 \nQ 13.671875 62.703125 7.8125 59.421875 \nL 7.8125 69.390625 \nQ 13.765625 71.78125 18.9375 73 \nQ 24.125 74.21875 28.421875 74.21875 \nQ 39.75 74.21875 46.484375 68.546875 \nQ 53.21875 62.890625 53.21875 53.421875 \nQ 53.21875 48.921875 51.53125 44.890625 \nQ 49.859375 40.875 45.40625 35.40625 \nQ 44.1875 33.984375 37.640625 27.21875 \nQ 31.109375 20.453125 19.1875 8.296875 \nz\n\" id=\"DejaVuSans-50\"/>\n      </defs>\n      <g transform=\"translate(192.209272 239.260948)scale(0.1 -0.1)\">\n       <use xlink:href=\"#DejaVuSans-50\"/>\n       <use x=\"63.623047\" xlink:href=\"#DejaVuSans-48\"/>\n       <use x=\"127.246094\" xlink:href=\"#DejaVuSans-48\"/>\n       <use x=\"190.869141\" xlink:href=\"#DejaVuSans-48\"/>\n       <use x=\"254.492188\" xlink:href=\"#DejaVuSans-48\"/>\n      </g>\n     </g>\n    </g>\n    <g id=\"xtick_4\">\n     <g id=\"line2d_4\">\n      <g>\n       <use style=\"stroke:#000000;stroke-width:0.8;\" x=\"279.968879\" xlink:href=\"#m332cc33241\" y=\"224.66251\"/>\n      </g>\n     </g>\n     <g id=\"text_4\">\n      <!-- 30000 -->\n      <defs>\n       <path d=\"M 40.578125 39.3125 \nQ 47.65625 37.796875 51.625 33 \nQ 55.609375 28.21875 55.609375 21.1875 \nQ 55.609375 10.40625 48.1875 4.484375 \nQ 40.765625 -1.421875 27.09375 -1.421875 \nQ 22.515625 -1.421875 17.65625 -0.515625 \nQ 12.796875 0.390625 7.625 2.203125 \nL 7.625 11.71875 \nQ 11.71875 9.328125 16.59375 8.109375 \nQ 21.484375 6.890625 26.8125 6.890625 \nQ 36.078125 6.890625 40.9375 10.546875 \nQ 45.796875 14.203125 45.796875 21.1875 \nQ 45.796875 27.640625 41.28125 31.265625 \nQ 36.765625 34.90625 28.71875 34.90625 \nL 20.21875 34.90625 \nL 20.21875 43.015625 \nL 29.109375 43.015625 \nQ 36.375 43.015625 40.234375 45.921875 \nQ 44.09375 48.828125 44.09375 54.296875 \nQ 44.09375 59.90625 40.109375 62.90625 \nQ 36.140625 65.921875 28.71875 65.921875 \nQ 24.65625 65.921875 20.015625 65.03125 \nQ 15.375 64.15625 9.8125 62.3125 \nL 9.8125 71.09375 \nQ 15.4375 72.65625 20.34375 73.4375 \nQ 25.25 74.21875 29.59375 74.21875 \nQ 40.828125 74.21875 47.359375 69.109375 \nQ 53.90625 64.015625 53.90625 55.328125 \nQ 53.90625 49.265625 50.4375 45.09375 \nQ 46.96875 40.921875 40.578125 39.3125 \nz\n\" id=\"DejaVuSans-51\"/>\n      </defs>\n      <g transform=\"translate(264.062629 239.260948)scale(0.1 -0.1)\">\n       <use xlink:href=\"#DejaVuSans-51\"/>\n       <use x=\"63.623047\" xlink:href=\"#DejaVuSans-48\"/>\n       <use x=\"127.246094\" xlink:href=\"#DejaVuSans-48\"/>\n       <use x=\"190.869141\" xlink:href=\"#DejaVuSans-48\"/>\n       <use x=\"254.492188\" xlink:href=\"#DejaVuSans-48\"/>\n      </g>\n     </g>\n    </g>\n    <g id=\"xtick_5\">\n     <g id=\"line2d_5\">\n      <g>\n       <use style=\"stroke:#000000;stroke-width:0.8;\" x=\"351.822236\" xlink:href=\"#m332cc33241\" y=\"224.66251\"/>\n      </g>\n     </g>\n     <g id=\"text_5\">\n      <!-- 40000 -->\n      <defs>\n       <path d=\"M 37.796875 64.3125 \nL 12.890625 25.390625 \nL 37.796875 25.390625 \nz\nM 35.203125 72.90625 \nL 47.609375 72.90625 \nL 47.609375 25.390625 \nL 58.015625 25.390625 \nL 58.015625 17.1875 \nL 47.609375 17.1875 \nL 47.609375 0 \nL 37.796875 0 \nL 37.796875 17.1875 \nL 4.890625 17.1875 \nL 4.890625 26.703125 \nz\n\" id=\"DejaVuSans-52\"/>\n      </defs>\n      <g transform=\"translate(335.915986 239.260948)scale(0.1 -0.1)\">\n       <use xlink:href=\"#DejaVuSans-52\"/>\n       <use x=\"63.623047\" xlink:href=\"#DejaVuSans-48\"/>\n       <use x=\"127.246094\" xlink:href=\"#DejaVuSans-48\"/>\n       <use x=\"190.869141\" xlink:href=\"#DejaVuSans-48\"/>\n       <use x=\"254.492188\" xlink:href=\"#DejaVuSans-48\"/>\n      </g>\n     </g>\n    </g>\n   </g>\n   <g id=\"matplotlib.axis_2\">\n    <g id=\"ytick_1\">\n     <g id=\"line2d_6\">\n      <defs>\n       <path d=\"M 0 0 \nL -3.5 0 \n\" id=\"m1e0de0b814\" style=\"stroke:#000000;stroke-width:0.8;\"/>\n      </defs>\n      <g>\n       <use style=\"stroke:#000000;stroke-width:0.8;\" x=\"49.190625\" xlink:href=\"#m1e0de0b814\" y=\"214.82555\"/>\n      </g>\n     </g>\n     <g id=\"text_6\">\n      <!-- 0.0000 -->\n      <defs>\n       <path d=\"M 10.6875 12.40625 \nL 21 12.40625 \nL 21 0 \nL 10.6875 0 \nz\n\" id=\"DejaVuSans-46\"/>\n      </defs>\n      <g transform=\"translate(7.2 218.624769)scale(0.1 -0.1)\">\n       <use xlink:href=\"#DejaVuSans-48\"/>\n       <use x=\"63.623047\" xlink:href=\"#DejaVuSans-46\"/>\n       <use x=\"95.410156\" xlink:href=\"#DejaVuSans-48\"/>\n       <use x=\"159.033203\" xlink:href=\"#DejaVuSans-48\"/>\n       <use x=\"222.65625\" xlink:href=\"#DejaVuSans-48\"/>\n       <use x=\"286.279297\" xlink:href=\"#DejaVuSans-48\"/>\n      </g>\n     </g>\n    </g>\n    <g id=\"ytick_2\">\n     <g id=\"line2d_7\">\n      <g>\n       <use style=\"stroke:#000000;stroke-width:0.8;\" x=\"49.190625\" xlink:href=\"#m1e0de0b814\" y=\"185.707503\"/>\n      </g>\n     </g>\n     <g id=\"text_7\">\n      <!-- 0.0001 -->\n      <g transform=\"translate(7.2 189.506721)scale(0.1 -0.1)\">\n       <use xlink:href=\"#DejaVuSans-48\"/>\n       <use x=\"63.623047\" xlink:href=\"#DejaVuSans-46\"/>\n       <use x=\"95.410156\" xlink:href=\"#DejaVuSans-48\"/>\n       <use x=\"159.033203\" xlink:href=\"#DejaVuSans-48\"/>\n       <use x=\"222.65625\" xlink:href=\"#DejaVuSans-48\"/>\n       <use x=\"286.279297\" xlink:href=\"#DejaVuSans-49\"/>\n      </g>\n     </g>\n    </g>\n    <g id=\"ytick_3\">\n     <g id=\"line2d_8\">\n      <g>\n       <use style=\"stroke:#000000;stroke-width:0.8;\" x=\"49.190625\" xlink:href=\"#m1e0de0b814\" y=\"156.589455\"/>\n      </g>\n     </g>\n     <g id=\"text_8\">\n      <!-- 0.0002 -->\n      <g transform=\"translate(7.2 160.388674)scale(0.1 -0.1)\">\n       <use xlink:href=\"#DejaVuSans-48\"/>\n       <use x=\"63.623047\" xlink:href=\"#DejaVuSans-46\"/>\n       <use x=\"95.410156\" xlink:href=\"#DejaVuSans-48\"/>\n       <use x=\"159.033203\" xlink:href=\"#DejaVuSans-48\"/>\n       <use x=\"222.65625\" xlink:href=\"#DejaVuSans-48\"/>\n       <use x=\"286.279297\" xlink:href=\"#DejaVuSans-50\"/>\n      </g>\n     </g>\n    </g>\n    <g id=\"ytick_4\">\n     <g id=\"line2d_9\">\n      <g>\n       <use style=\"stroke:#000000;stroke-width:0.8;\" x=\"49.190625\" xlink:href=\"#m1e0de0b814\" y=\"127.471408\"/>\n      </g>\n     </g>\n     <g id=\"text_9\">\n      <!-- 0.0003 -->\n      <g transform=\"translate(7.2 131.270627)scale(0.1 -0.1)\">\n       <use xlink:href=\"#DejaVuSans-48\"/>\n       <use x=\"63.623047\" xlink:href=\"#DejaVuSans-46\"/>\n       <use x=\"95.410156\" xlink:href=\"#DejaVuSans-48\"/>\n       <use x=\"159.033203\" xlink:href=\"#DejaVuSans-48\"/>\n       <use x=\"222.65625\" xlink:href=\"#DejaVuSans-48\"/>\n       <use x=\"286.279297\" xlink:href=\"#DejaVuSans-51\"/>\n      </g>\n     </g>\n    </g>\n    <g id=\"ytick_5\">\n     <g id=\"line2d_10\">\n      <g>\n       <use style=\"stroke:#000000;stroke-width:0.8;\" x=\"49.190625\" xlink:href=\"#m1e0de0b814\" y=\"98.353361\"/>\n      </g>\n     </g>\n     <g id=\"text_10\">\n      <!-- 0.0004 -->\n      <g transform=\"translate(7.2 102.152579)scale(0.1 -0.1)\">\n       <use xlink:href=\"#DejaVuSans-48\"/>\n       <use x=\"63.623047\" xlink:href=\"#DejaVuSans-46\"/>\n       <use x=\"95.410156\" xlink:href=\"#DejaVuSans-48\"/>\n       <use x=\"159.033203\" xlink:href=\"#DejaVuSans-48\"/>\n       <use x=\"222.65625\" xlink:href=\"#DejaVuSans-48\"/>\n       <use x=\"286.279297\" xlink:href=\"#DejaVuSans-52\"/>\n      </g>\n     </g>\n    </g>\n    <g id=\"ytick_6\">\n     <g id=\"line2d_11\">\n      <g>\n       <use style=\"stroke:#000000;stroke-width:0.8;\" x=\"49.190625\" xlink:href=\"#m1e0de0b814\" y=\"69.235313\"/>\n      </g>\n     </g>\n     <g id=\"text_11\">\n      <!-- 0.0005 -->\n      <defs>\n       <path d=\"M 10.796875 72.90625 \nL 49.515625 72.90625 \nL 49.515625 64.59375 \nL 19.828125 64.59375 \nL 19.828125 46.734375 \nQ 21.96875 47.46875 24.109375 47.828125 \nQ 26.265625 48.1875 28.421875 48.1875 \nQ 40.625 48.1875 47.75 41.5 \nQ 54.890625 34.8125 54.890625 23.390625 \nQ 54.890625 11.625 47.5625 5.09375 \nQ 40.234375 -1.421875 26.90625 -1.421875 \nQ 22.3125 -1.421875 17.546875 -0.640625 \nQ 12.796875 0.140625 7.71875 1.703125 \nL 7.71875 11.625 \nQ 12.109375 9.234375 16.796875 8.0625 \nQ 21.484375 6.890625 26.703125 6.890625 \nQ 35.15625 6.890625 40.078125 11.328125 \nQ 45.015625 15.765625 45.015625 23.390625 \nQ 45.015625 31 40.078125 35.4375 \nQ 35.15625 39.890625 26.703125 39.890625 \nQ 22.75 39.890625 18.8125 39.015625 \nQ 14.890625 38.140625 10.796875 36.28125 \nz\n\" id=\"DejaVuSans-53\"/>\n      </defs>\n      <g transform=\"translate(7.2 73.034532)scale(0.1 -0.1)\">\n       <use xlink:href=\"#DejaVuSans-48\"/>\n       <use x=\"63.623047\" xlink:href=\"#DejaVuSans-46\"/>\n       <use x=\"95.410156\" xlink:href=\"#DejaVuSans-48\"/>\n       <use x=\"159.033203\" xlink:href=\"#DejaVuSans-48\"/>\n       <use x=\"222.65625\" xlink:href=\"#DejaVuSans-48\"/>\n       <use x=\"286.279297\" xlink:href=\"#DejaVuSans-53\"/>\n      </g>\n     </g>\n    </g>\n    <g id=\"ytick_7\">\n     <g id=\"line2d_12\">\n      <g>\n       <use style=\"stroke:#000000;stroke-width:0.8;\" x=\"49.190625\" xlink:href=\"#m1e0de0b814\" y=\"40.117266\"/>\n      </g>\n     </g>\n     <g id=\"text_12\">\n      <!-- 0.0006 -->\n      <defs>\n       <path d=\"M 33.015625 40.375 \nQ 26.375 40.375 22.484375 35.828125 \nQ 18.609375 31.296875 18.609375 23.390625 \nQ 18.609375 15.53125 22.484375 10.953125 \nQ 26.375 6.390625 33.015625 6.390625 \nQ 39.65625 6.390625 43.53125 10.953125 \nQ 47.40625 15.53125 47.40625 23.390625 \nQ 47.40625 31.296875 43.53125 35.828125 \nQ 39.65625 40.375 33.015625 40.375 \nz\nM 52.59375 71.296875 \nL 52.59375 62.3125 \nQ 48.875 64.0625 45.09375 64.984375 \nQ 41.3125 65.921875 37.59375 65.921875 \nQ 27.828125 65.921875 22.671875 59.328125 \nQ 17.53125 52.734375 16.796875 39.40625 \nQ 19.671875 43.65625 24.015625 45.921875 \nQ 28.375 48.1875 33.59375 48.1875 \nQ 44.578125 48.1875 50.953125 41.515625 \nQ 57.328125 34.859375 57.328125 23.390625 \nQ 57.328125 12.15625 50.6875 5.359375 \nQ 44.046875 -1.421875 33.015625 -1.421875 \nQ 20.359375 -1.421875 13.671875 8.265625 \nQ 6.984375 17.96875 6.984375 36.375 \nQ 6.984375 53.65625 15.1875 63.9375 \nQ 23.390625 74.21875 37.203125 74.21875 \nQ 40.921875 74.21875 44.703125 73.484375 \nQ 48.484375 72.75 52.59375 71.296875 \nz\n\" id=\"DejaVuSans-54\"/>\n      </defs>\n      <g transform=\"translate(7.2 43.916485)scale(0.1 -0.1)\">\n       <use xlink:href=\"#DejaVuSans-48\"/>\n       <use x=\"63.623047\" xlink:href=\"#DejaVuSans-46\"/>\n       <use x=\"95.410156\" xlink:href=\"#DejaVuSans-48\"/>\n       <use x=\"159.033203\" xlink:href=\"#DejaVuSans-48\"/>\n       <use x=\"222.65625\" xlink:href=\"#DejaVuSans-48\"/>\n       <use x=\"286.279297\" xlink:href=\"#DejaVuSans-54\"/>\n      </g>\n     </g>\n    </g>\n    <g id=\"ytick_8\">\n     <g id=\"line2d_13\">\n      <g>\n       <use style=\"stroke:#000000;stroke-width:0.8;\" x=\"49.190625\" xlink:href=\"#m1e0de0b814\" y=\"10.999219\"/>\n      </g>\n     </g>\n     <g id=\"text_13\">\n      <!-- 0.0007 -->\n      <defs>\n       <path d=\"M 8.203125 72.90625 \nL 55.078125 72.90625 \nL 55.078125 68.703125 \nL 28.609375 0 \nL 18.3125 0 \nL 43.21875 64.59375 \nL 8.203125 64.59375 \nz\n\" id=\"DejaVuSans-55\"/>\n      </defs>\n      <g transform=\"translate(7.2 14.798437)scale(0.1 -0.1)\">\n       <use xlink:href=\"#DejaVuSans-48\"/>\n       <use x=\"63.623047\" xlink:href=\"#DejaVuSans-46\"/>\n       <use x=\"95.410156\" xlink:href=\"#DejaVuSans-48\"/>\n       <use x=\"159.033203\" xlink:href=\"#DejaVuSans-48\"/>\n       <use x=\"222.65625\" xlink:href=\"#DejaVuSans-48\"/>\n       <use x=\"286.279297\" xlink:href=\"#DejaVuSans-55\"/>\n      </g>\n     </g>\n    </g>\n   </g>\n   <g id=\"line2d_14\">\n    <path clip-path=\"url(#p3090cc6b76)\" d=\"M 64.408807 214.778874 \nL 94.838704 17.106147 \nL 94.910557 17.339114 \nL 97.152382 24.217997 \nL 99.480431 30.651525 \nL 101.909074 36.714028 \nL 104.431127 42.41625 \nL 107.053774 47.800996 \nL 109.784202 52.903421 \nL 112.629595 57.752639 \nL 115.597139 62.372951 \nL 118.694018 66.784795 \nL 121.927419 71.005487 \nL 125.311713 75.058057 \nL 128.854083 78.953213 \nL 132.568902 82.707299 \nL 136.470539 86.333339 \nL 140.573366 89.841714 \nL 144.891752 93.240694 \nL 149.44007 96.536883 \nL 154.24706 99.744773 \nL 159.334277 102.870681 \nL 164.716094 105.915238 \nL 170.428436 108.889703 \nL 176.500044 111.798551 \nL 182.952476 114.64153 \nL 189.828842 117.42646 \nL 197.16507 120.155733 \nL 205.004271 122.832706 \nL 213.389558 125.458947 \nL 222.371228 128.03668 \nL 232.006763 130.568329 \nL 242.353646 133.054545 \nL 253.483731 135.497719 \nL 265.468871 137.898314 \nL 278.39529 140.25792 \nL 292.349212 142.576308 \nL 307.438417 144.855081 \nL 323.770685 147.093891 \nL 341.482538 149.294445 \nL 360.710496 151.456314 \nL 368.772443 152.301185 \nL 368.772443 152.301185 \n\" style=\"fill:none;stroke:#1f77b4;stroke-linecap:square;stroke-width:1.5;\"/>\n   </g>\n   <g id=\"patch_3\">\n    <path d=\"M 49.190625 224.66251 \nL 49.190625 7.22251 \n\" style=\"fill:none;stroke:#000000;stroke-linecap:square;stroke-linejoin:miter;stroke-width:0.8;\"/>\n   </g>\n   <g id=\"patch_4\">\n    <path d=\"M 383.990625 224.66251 \nL 383.990625 7.22251 \n\" style=\"fill:none;stroke:#000000;stroke-linecap:square;stroke-linejoin:miter;stroke-width:0.8;\"/>\n   </g>\n   <g id=\"patch_5\">\n    <path d=\"M 49.190625 224.66251 \nL 383.990625 224.66251 \n\" style=\"fill:none;stroke:#000000;stroke-linecap:square;stroke-linejoin:miter;stroke-width:0.8;\"/>\n   </g>\n   <g id=\"patch_6\">\n    <path d=\"M 49.190625 7.22251 \nL 383.990625 7.22251 \n\" style=\"fill:none;stroke:#000000;stroke-linecap:square;stroke-linejoin:miter;stroke-width:0.8;\"/>\n   </g>\n  </g>\n </g>\n <defs>\n  <clipPath id=\"p3090cc6b76\">\n   <rect height=\"217.44\" width=\"334.8\" x=\"49.190625\" y=\"7.22251\"/>\n  </clipPath>\n </defs>\n</svg>\n",
      "image/png": "[encoded data removed]"
     },
     "metadata": {
      "needs_background": "light"
     }
    }
   ],
   "source": [
    "lr_list = []\n",
    "for step in range(total_step):\n",
    "    sch_optim.update_lr()\n",
    "    lr_list.append(sch_optim.get_lr()[0])\n",
    "    \n",
    "plt.plot(range(len(lr_list)), lr_list)"
   ]
  },
  {
   "cell_type": "code",
   "execution_count": 5,
   "metadata": {},
   "outputs": [
    {
     "output_type": "stream",
     "name": "stdout",
     "text": [
      "1.6029910308060072e-07 0.00021472719148048154 0.0006790270006494246 4235\n"
     ]
    }
   ],
   "source": [
    "print(lr_list[0],lr_list[-1],np.max(lr_list),np.argmax(lr_list))"
   ]
  },
  {
   "cell_type": "code",
   "execution_count": 6,
   "metadata": {},
   "outputs": [],
   "source": [
    "# print(lr_list[0],lr_list[-1],np.max(lr_list),np.argmax(lr_list))\n",
    "# 8.329385728299636e-07 0.00037191840541076496 0.0011761092648359087 1411"
   ]
  },
  {
   "cell_type": "code",
   "execution_count": 7,
   "metadata": {},
   "outputs": [
    {
     "output_type": "execute_result",
     "data": {
      "text/plain": [
       "0.00021472719148048151"
      ]
     },
     "metadata": {},
     "execution_count": 7
    }
   ],
   "source": [
    "(512*42360)**(-0.5)"
   ]
  },
  {
   "cell_type": "code",
   "execution_count": 8,
   "metadata": {},
   "outputs": [
    {
     "output_type": "execute_result",
     "data": {
      "text/plain": [
       "1.746928107421711e-07"
      ]
     },
     "metadata": {},
     "execution_count": 8
    }
   ],
   "source": [
    "512**(-0.5)*4000**(-1.5)"
   ]
  },
  {
   "cell_type": "code",
   "execution_count": 11,
   "metadata": {},
   "outputs": [
    {
     "output_type": "execute_result",
     "data": {
      "text/plain": [
       "tensor([[ 1,  2,  3,  4,  5,  6,  7,  8,  9, 10]])"
      ]
     },
     "metadata": {},
     "execution_count": 11
    }
   ],
   "source": [
    "max_seq=10\n",
    "x=torch.arange(1, max_seq+1, dtype=torch.long).unsqueeze(0)\n",
    "x"
   ]
  },
  {
   "cell_type": "code",
   "execution_count": 14,
   "metadata": {},
   "outputs": [
    {
     "output_type": "execute_result",
     "data": {
      "text/plain": [
       "tensor([False, False, False, False, False,  True, False, False, False, False])"
      ]
     },
     "metadata": {},
     "execution_count": 14
    }
   ],
   "source": [
    "y=torch.tensor([0,0,0,0,0,1,0,0,0,0]).bool()\n",
    "y"
   ]
  },
  {
   "cell_type": "code",
   "execution_count": 17,
   "metadata": {},
   "outputs": [
    {
     "output_type": "execute_result",
     "data": {
      "text/plain": [
       "torch.return_types.min(\n",
       "values=tensor([6]),\n",
       "indices=tensor([5]))"
      ]
     },
     "metadata": {},
     "execution_count": 17
    }
   ],
   "source": [
    "x.masked_fill(~y,max_seq).min(1)"
   ]
  },
  {
   "cell_type": "code",
   "execution_count": null,
   "metadata": {},
   "outputs": [],
   "source": []
  }
 ]
}