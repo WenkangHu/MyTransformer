{
 "cells": [
  {
   "cell_type": "code",
   "execution_count": 1,
   "source": [
    "import torch\n",
    "from translator import Translator\n",
    "from MyTransformer import Transformer,PadMask\n",
    "import numpy as np\n",
    "from torch.utils.data import TensorDataset\n",
    "import json"
   ],
   "outputs": [],
   "metadata": {}
  },
  {
   "cell_type": "code",
   "execution_count": 2,
   "source": [
    "with open('translate_args.json', 'r', encoding='utf-8') as f:\n",
    "    args = json.load(f)\n"
   ],
   "outputs": [],
   "metadata": {}
  },
  {
   "cell_type": "code",
   "execution_count": 3,
   "source": [
    "args['cuda'] = args['cuda']  & torch.cuda.is_available()\n",
    "args['device']  = torch.device('cuda' if args['cuda']  else 'cpu')"
   ],
   "outputs": [],
   "metadata": {}
  },
  {
   "cell_type": "code",
   "execution_count": 4,
   "source": [
    "textTransforms = torch.load(args['transform_dir'])\n",
    "src_textTransform, tgt_textTransform = textTransforms['src'], textTransforms['tgt']"
   ],
   "outputs": [],
   "metadata": {}
  },
  {
   "cell_type": "code",
   "execution_count": 5,
   "source": [
    "args['src_vocab_size'], args['tgt_vocab_size'] = src_textTransform.vocab_size(), tgt_textTransform.vocab_size()\n",
    "args['src_vocab_size'], args['tgt_vocab_size'] "
   ],
   "outputs": [
    {
     "output_type": "execute_result",
     "data": {
      "text/plain": [
       "(24454, 6870)"
      ]
     },
     "metadata": {},
     "execution_count": 5
    }
   ],
   "metadata": {}
  },
  {
   "cell_type": "code",
   "execution_count": 6,
   "source": [
    "data = torch.load(args['val_data_cache'])\n",
    "dataset = TensorDataset(data['src'], data['tgt'])"
   ],
   "outputs": [],
   "metadata": {}
  },
  {
   "cell_type": "code",
   "execution_count": 71,
   "source": [
    "dataset[0][0]"
   ],
   "outputs": [
    {
     "output_type": "execute_result",
     "data": {
      "text/plain": [
       "tensor([   2,  457, 5768,   81,   11,  311, 4995, 3566,   11, 5520,   14,   39,\n",
       "        2384,  418, 1721,   17,  247,  700, 1030,    6,    3,    1,    1,    1,\n",
       "           1,    1,    1,    1,    1,    1,    1,    1,    1,    1,    1,    1,\n",
       "           1,    1,    1,    1,    1,    1,    1,    1,    1,    1,    1,    1,\n",
       "           1,    1,    1,    1,    1,    1,    1,    1,    1,    1,    1,    1,\n",
       "           1,    1,    1,    1,    1,    1,    1,    1,    1,    1,    1,    1,\n",
       "           1,    1,    1,    1,    1,    1,    1,    1,    1,    1,    1,    1,\n",
       "           1,    1,    1,    1,    1,    1,    1,    1,    1,    1,    1,    1,\n",
       "           1,    1,    1,    1])"
      ]
     },
     "metadata": {},
     "execution_count": 71
    }
   ],
   "metadata": {}
  },
  {
   "cell_type": "code",
   "execution_count": 7,
   "source": [
    "src_textTransform.vocab.lookup_tokens(data['src'][0].numpy().tolist())[:10]"
   ],
   "outputs": [
    {
     "output_type": "execute_result",
     "data": {
      "text/plain": [
       "['[BOS]', 'con', '##fin', '##ing', 'a', 'little', 'sun', 'inside', 'a', 'box']"
      ]
     },
     "metadata": {},
     "execution_count": 7
    }
   ],
   "metadata": {}
  },
  {
   "cell_type": "code",
   "execution_count": 8,
   "source": [
    "tgt_textTransform.vocab.lookup_tokens(data['tgt'][0].numpy().tolist())[:10]"
   ],
   "outputs": [
    {
     "output_type": "execute_result",
     "data": {
      "text/plain": [
       "['[BOS]', '把', '一', '个', '小', '太', '阳', '限', '制', '在']"
      ]
     },
     "metadata": {},
     "execution_count": 8
    }
   ],
   "metadata": {}
  },
  {
   "cell_type": "code",
   "execution_count": 9,
   "source": [
    "transformer = Transformer(\n",
    "        src_max_seq_len=args['src_max_seq_len'],\n",
    "        tgt_max_seq_len=args['tgt_max_seq_len'],\n",
    "        src_vocab_size=args['src_vocab_size'],\n",
    "        tgt_vocab_size=args['tgt_vocab_size'],\n",
    "        src_pad_idx=args['pad_idx'],\n",
    "        tgt_pad_idx=args['pad_idx'],\n",
    "        num_layer=args['num_layer'],\n",
    "        num_head=args['num_head'],\n",
    "        d_k=args['d_k'],\n",
    "        d_v=args['d_v'],\n",
    "        d_model=args['d_model'],\n",
    "        d_ff=args['d_ff'],\n",
    "        drop=args['drop'],\n",
    "        scale_emb=args['scale_emb'],\n",
    "        share_proj_weight=args['share_proj_weight'],\n",
    "        share_emb_weight=args['share_emb_weight']\n",
    "    )\n",
    "transformer=transformer.to(args['device'])"
   ],
   "outputs": [],
   "metadata": {}
  },
  {
   "cell_type": "code",
   "execution_count": 10,
   "source": [
    "transformer.load_state_dict(torch.load(args['model_checkpoint']))"
   ],
   "outputs": [
    {
     "output_type": "execute_result",
     "data": {
      "text/plain": [
       "<All keys matched successfully>"
      ]
     },
     "metadata": {},
     "execution_count": 10
    }
   ],
   "metadata": {}
  },
  {
   "cell_type": "code",
   "execution_count": 48,
   "source": [
    "src_input,tgt_input=data['src'][:1].to(args['device']),data['tgt'][:1].to(args['device'])\n",
    "print(tgt_input)\n",
    "tgt_input[:,1]=3\n",
    "tgt_input[:,2:]=1\n",
    "print(tgt_input)"
   ],
   "outputs": [
    {
     "output_type": "stream",
     "name": "stdout",
     "text": [
      "tensor([[   2,  488,   10,   32,  391,  494, 1282,  454,   89,    8,   10,   32,\n",
      "         2776,  320,  255,    9,   10,   32,  315,   36,  485,  270,    4,  184,\n",
      "          196,    5,   13,  255,   14,  402,   32,  120,  161,    6,    3,    1,\n",
      "            1,    1,    1,    1,    1,    1,    1,    1,    1,    1,    1,    1,\n",
      "            1,    1,    1,    1,    1,    1,    1,    1,    1,    1,    1,    1,\n",
      "            1,    1,    1,    1,    1,    1,    1,    1,    1,    1,    1,    1,\n",
      "            1,    1,    1,    1,    1,    1,    1,    1,    1,    1,    1,    1,\n",
      "            1,    1,    1,    1,    1,    1,    1,    1,    1,    1,    1,    1,\n",
      "            1,    1,    1,    1]], device='cuda:0')\n",
      "tensor([[2, 3, 1, 1, 1, 1, 1, 1, 1, 1, 1, 1, 1, 1, 1, 1, 1, 1, 1, 1, 1, 1, 1, 1,\n",
      "         1, 1, 1, 1, 1, 1, 1, 1, 1, 1, 1, 1, 1, 1, 1, 1, 1, 1, 1, 1, 1, 1, 1, 1,\n",
      "         1, 1, 1, 1, 1, 1, 1, 1, 1, 1, 1, 1, 1, 1, 1, 1, 1, 1, 1, 1, 1, 1, 1, 1,\n",
      "         1, 1, 1, 1, 1, 1, 1, 1, 1, 1, 1, 1, 1, 1, 1, 1, 1, 1, 1, 1, 1, 1, 1, 1,\n",
      "         1, 1, 1, 1]], device='cuda:0')\n"
     ]
    }
   ],
   "metadata": {}
  },
  {
   "cell_type": "code",
   "execution_count": 66,
   "source": [
    "src='who are you'\n",
    "tgt='我是'\n",
    "src_input=torch.LongTensor(src_textTransform(src)).unsqueeze(0).to(args['device'])\n",
    "tgt_input=torch.LongTensor(tgt_textTransform(tgt)).unsqueeze(0).to(args['device'])"
   ],
   "outputs": [],
   "metadata": {}
  },
  {
   "cell_type": "code",
   "execution_count": 67,
   "source": [
    "output=transformer(src_input,tgt_input[:,:-1])"
   ],
   "outputs": [],
   "metadata": {}
  },
  {
   "cell_type": "code",
   "execution_count": 68,
   "source": [
    "res=output.detach().cpu().numpy()\n",
    "res=np.argmax(res,axis=1)\n",
    "tgt_textTransform.vocab.lookup_tokens(res.tolist())[:20]"
   ],
   "outputs": [
    {
     "output_type": "execute_result",
     "data": {
      "text/plain": [
       "['我',\n",
       " '爱',\n",
       " '[EOS]',\n",
       " '[EOS]',\n",
       " '挪',\n",
       " '站',\n",
       " '##ch',\n",
       " '觉',\n",
       " '求',\n",
       " '廷',\n",
       " '问',\n",
       " '证',\n",
       " '盯',\n",
       " '宜',\n",
       " '俩',\n",
       " '报',\n",
       " '贡',\n",
       " '把',\n",
       " '袖',\n",
       " '命']"
      ]
     },
     "metadata": {},
     "execution_count": 68
    }
   ],
   "metadata": {}
  },
  {
   "cell_type": "code",
   "execution_count": 69,
   "source": [
    "tgt_textTransform.vocab.lookup_tokens(tgt_input.detach().cpu().numpy().squeeze().tolist())"
   ],
   "outputs": [
    {
     "output_type": "execute_result",
     "data": {
      "text/plain": [
       "['[BOS]',\n",
       " '我',\n",
       " '爱',\n",
       " '[EOS]',\n",
       " '[PAD]',\n",
       " '[PAD]',\n",
       " '[PAD]',\n",
       " '[PAD]',\n",
       " '[PAD]',\n",
       " '[PAD]',\n",
       " '[PAD]',\n",
       " '[PAD]',\n",
       " '[PAD]',\n",
       " '[PAD]',\n",
       " '[PAD]',\n",
       " '[PAD]',\n",
       " '[PAD]',\n",
       " '[PAD]',\n",
       " '[PAD]',\n",
       " '[PAD]',\n",
       " '[PAD]',\n",
       " '[PAD]',\n",
       " '[PAD]',\n",
       " '[PAD]',\n",
       " '[PAD]',\n",
       " '[PAD]',\n",
       " '[PAD]',\n",
       " '[PAD]',\n",
       " '[PAD]',\n",
       " '[PAD]',\n",
       " '[PAD]',\n",
       " '[PAD]',\n",
       " '[PAD]',\n",
       " '[PAD]',\n",
       " '[PAD]',\n",
       " '[PAD]',\n",
       " '[PAD]',\n",
       " '[PAD]',\n",
       " '[PAD]',\n",
       " '[PAD]',\n",
       " '[PAD]',\n",
       " '[PAD]',\n",
       " '[PAD]',\n",
       " '[PAD]',\n",
       " '[PAD]',\n",
       " '[PAD]',\n",
       " '[PAD]',\n",
       " '[PAD]',\n",
       " '[PAD]',\n",
       " '[PAD]',\n",
       " '[PAD]',\n",
       " '[PAD]',\n",
       " '[PAD]',\n",
       " '[PAD]',\n",
       " '[PAD]',\n",
       " '[PAD]',\n",
       " '[PAD]',\n",
       " '[PAD]',\n",
       " '[PAD]',\n",
       " '[PAD]',\n",
       " '[PAD]',\n",
       " '[PAD]',\n",
       " '[PAD]',\n",
       " '[PAD]',\n",
       " '[PAD]',\n",
       " '[PAD]',\n",
       " '[PAD]',\n",
       " '[PAD]',\n",
       " '[PAD]',\n",
       " '[PAD]',\n",
       " '[PAD]',\n",
       " '[PAD]',\n",
       " '[PAD]',\n",
       " '[PAD]',\n",
       " '[PAD]',\n",
       " '[PAD]',\n",
       " '[PAD]',\n",
       " '[PAD]',\n",
       " '[PAD]',\n",
       " '[PAD]',\n",
       " '[PAD]',\n",
       " '[PAD]',\n",
       " '[PAD]',\n",
       " '[PAD]',\n",
       " '[PAD]',\n",
       " '[PAD]',\n",
       " '[PAD]',\n",
       " '[PAD]',\n",
       " '[PAD]',\n",
       " '[PAD]',\n",
       " '[PAD]',\n",
       " '[PAD]',\n",
       " '[PAD]',\n",
       " '[PAD]',\n",
       " '[PAD]',\n",
       " '[PAD]',\n",
       " '[PAD]',\n",
       " '[PAD]',\n",
       " '[PAD]',\n",
       " '[PAD]']"
      ]
     },
     "metadata": {},
     "execution_count": 69
    }
   ],
   "metadata": {}
  }
 ],
 "metadata": {
  "orig_nbformat": 4,
  "language_info": {
   "name": "python",
   "version": "3.6.13",
   "mimetype": "text/x-python",
   "codemirror_mode": {
    "name": "ipython",
    "version": 3
   },
   "pygments_lexer": "ipython3",
   "nbconvert_exporter": "python",
   "file_extension": ".py"
  },
  "kernelspec": {
   "name": "python3",
   "display_name": "Python 3.6.13 64-bit ('torchhwk': conda)"
  },
  "interpreter": {
   "hash": "d21772f1c0845078982717cb0255994906cdfd11ac6285100cc8dcb63ba2f87f"
  }
 },
 "nbformat": 4,
 "nbformat_minor": 2
}